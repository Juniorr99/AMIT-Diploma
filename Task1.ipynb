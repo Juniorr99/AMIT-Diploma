{
 "cells": [
  {
   "cell_type": "code",
   "execution_count": 1,
   "id": "9854af69",
   "metadata": {},
   "outputs": [
    {
     "name": "stdout",
     "output_type": "stream",
     "text": [
      " Enter gravity = 8\n",
      "Enter mass of Earth = 4.7\n",
      "Enter mass of Moon = 7.44\n",
      "Enter radius = 3.56\n",
      "Gravititional Force = 3.494104279762656e+20 Newton \n"
     ]
    }
   ],
   "source": [
    "# Task1 \n",
    "\n",
    "# inputs\n",
    "G = float(input(\" Enter gravity = \"))\n",
    "ME = float(input('Enter mass of Earth = '))\n",
    "MM = float(input('Enter mass of Moon = '))\n",
    "r = float(input('Enter radius = '))\n",
    "\n",
    "G = G*(10**-11)\n",
    "ME = MM*(10**24)\n",
    "MM = MM*(10**22)\n",
    "r = r*(10**8)\n",
    "\n",
    "# Mathematical equation\n",
    "Fg = G * ME * MM / (r**2)\n",
    "\n",
    "# Displaying result\n",
    "print (\"Gravititional Force = {} Newton \".format(Fg))"
   ]
  },
  {
   "cell_type": "code",
   "execution_count": null,
   "id": "460308ff",
   "metadata": {},
   "outputs": [],
   "source": []
  }
 ],
 "metadata": {
  "kernelspec": {
   "display_name": "Python 3 (ipykernel)",
   "language": "python",
   "name": "python3"
  },
  "language_info": {
   "codemirror_mode": {
    "name": "ipython",
    "version": 3
   },
   "file_extension": ".py",
   "mimetype": "text/x-python",
   "name": "python",
   "nbconvert_exporter": "python",
   "pygments_lexer": "ipython3",
   "version": "3.9.13"
  }
 },
 "nbformat": 4,
 "nbformat_minor": 5
}
